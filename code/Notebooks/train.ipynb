{
  "nbformat": 4,
  "nbformat_minor": 0,
  "metadata": {
    "accelerator": "GPU",
    "colab": {
      "name": "CNN_with_Sentence.ipynb",
      "provenance": [],
      "collapsed_sections": []
    },
    "kernelspec": {
      "display_name": "Python 3",
      "name": "python3"
    }
  },
  "cells": [
    {
      "cell_type": "code",
      "metadata": {
        "id": "nllNxPnkoiWZ"
      },
      "source": [
        "import pandas as pd\n",
        "import numpy as np\n",
        "import matplotlib.pyplot as plt\n",
        "\n",
        "import tensorflow \n",
        "import tensorflow_hub as hub\n",
        "from tensorflow.keras.layers import Conv1D\n",
        "from tensorflow.keras.layers import LSTM, Bidirectional\n",
        "from tensorflow.keras.layers import Dense, Flatten, MaxPooling1D, Input, Activation, add\n",
        "from tensorflow.keras.models import Sequential, Model\n",
        "from sklearn.preprocessing import OneHotEncoder\n",
        "from tensorflow.keras.layers import Dropout, BatchNormalization, Reshape\n",
        "from sklearn.utils import resample\n",
        "from sklearn.utils import shuffle\n",
        "from tensorflow.keras import  optimizers\n",
        "from tensorflow.keras.models import load_model\n"
      ],
      "execution_count": null,
      "outputs": []
    },
    {
      "cell_type": "code",
      "metadata": {
        "id": "ooSQ2JQwjiyx"
      },
      "source": [
        "tensorflow.__version__"
      ],
      "execution_count": null,
      "outputs": []
    },
    {
      "cell_type": "markdown",
      "metadata": {
        "id": "F9mLHHucsY9S"
      },
      "source": [
        "#### load data"
      ]
    },
    {
      "cell_type": "code",
      "metadata": {
        "id": "BAbvcvzJq-YC"
      },
      "source": [
        "data = pd.read_csv(\"agreed.csv\", sep=\",\")\n",
        "print(data.shape, data.columns)\n",
        "features1 = data[\"title1_en\"]\n",
        "features2 = data[\"title2_en\"]"
      ],
      "execution_count": null,
      "outputs": []
    },
    {
      "cell_type": "markdown",
      "metadata": {
        "id": "VXYRy6uCssNW"
      },
      "source": [
        "#### generate embeddings using Google universal sentence encoder"
      ]
    },
    {
      "cell_type": "code",
      "metadata": {
        "id": "aoSzd7j7r9aY"
      },
      "source": [
        "embed = hub.load(\"https://tfhub.dev/google/universal-sentence-encoder/4\")\n"
      ],
      "execution_count": null,
      "outputs": []
    },
    {
      "cell_type": "code",
      "metadata": {
        "id": "pOrHB_PGt9No"
      },
      "source": [
        "embedded_features1 = embed(features1)\n",
        "embedded_features1 = np.array(embedded_features1)\n",
        "result = pd.DataFrame(embedded_features1)\n",
        "result.to_csv(\"features1.csv\", index=False)\n"
      ],
      "execution_count": null,
      "outputs": []
    },
    {
      "cell_type": "code",
      "metadata": {
        "id": "BX4QtCv7G3zi"
      },
      "source": [
        "embedded_features2 = embed(features2)\n",
        "embedded_features2 = np.array(embedded_features2)\n",
        "result = pd.DataFrame(embedded_features2)\n",
        "result.to_csv(\"features2.csv\", index=False)\n"
      ],
      "execution_count": null,
      "outputs": []
    },
    {
      "cell_type": "code",
      "metadata": {
        "colab": {
          "base_uri": "https://localhost:8080/"
        },
        "id": "Fv0cPtwMHPLc",
        "outputId": "63374c16-3452-43a2-b4b0-227046f0dacf"
      },
      "source": [
        "features1 = pd.read_csv(\"features1.csv\")\n",
        "features2 = pd.read_csv(\"features2.csv\")\n",
        "print(features1.shape, features2.shape)"
      ],
      "execution_count": null,
      "outputs": [
        {
          "output_type": "stream",
          "text": [
            "(74238, 512) (74238, 512)\n"
          ],
          "name": "stdout"
        }
      ]
    },
    {
      "cell_type": "code",
      "metadata": {
        "id": "1ovnUzOzHeMV"
      },
      "source": [
        "processed = pd.concat([features1, features2], axis=1)\n"
      ],
      "execution_count": null,
      "outputs": []
    },
    {
      "cell_type": "code",
      "metadata": {
        "colab": {
          "base_uri": "https://localhost:8080/"
        },
        "id": "O8XYXyv8M7AD",
        "outputId": "7627aad2-2c9f-434c-dd03-4396261f12b0"
      },
      "source": [
        "print(processed.shape)\n"
      ],
      "execution_count": null,
      "outputs": [
        {
          "output_type": "stream",
          "text": [
            "(74238, 1024)\n"
          ],
          "name": "stdout"
        }
      ]
    },
    {
      "cell_type": "code",
      "metadata": {
        "id": "lRp-IKv6Jk6P"
      },
      "source": [
        "processed[\"mean\"] = processed.mean(axis=1)\n",
        "\n",
        "plt.hist(processed[\"mean\"], 100)\n",
        "plt.show()"
      ],
      "execution_count": null,
      "outputs": []
    },
    {
      "cell_type": "code",
      "metadata": {
        "id": "YMHNfwO9JM1I"
      },
      "source": [
        "df_minority_upsampled = resample(processed, \n",
        "                                 replace=True,     # sample with replacement\n",
        "                                 n_samples=75000,    # to match majority class\n",
        "                                 random_state=123)"
      ],
      "execution_count": null,
      "outputs": []
    },
    {
      "cell_type": "code",
      "metadata": {
        "id": "JwBgLMRVJh8J"
      },
      "source": [
        "df_minority_upsampled[\"mean\"] = df_minority_upsampled.mean(axis=1)\n",
        "plt.hist(df_minority_upsampled[\"mean\"], 100)\n",
        "plt.show()"
      ],
      "execution_count": null,
      "outputs": []
    },
    {
      "cell_type": "code",
      "metadata": {
        "id": "hCVtpocFJSSN"
      },
      "source": [
        "df_minority_upsampled.to_csv(\"agreed_downsample_75k.csv\", index=False)"
      ],
      "execution_count": null,
      "outputs": []
    },
    {
      "cell_type": "code",
      "metadata": {
        "colab": {
          "base_uri": "https://localhost:8080/"
        },
        "id": "A6nRf__oA58W",
        "outputId": "4e408cbc-9de3-40d6-ee26-c3a8e39885b9"
      },
      "source": [
        "cd drive/My\\ Drive/MS/fall20/CS579/project2/100K_Data"
      ],
      "execution_count": null,
      "outputs": [
        {
          "output_type": "stream",
          "text": [
            "/content/drive/My Drive/MS/fall20/CS579/project2/100K_Data\n"
          ],
          "name": "stdout"
        }
      ]
    },
    {
      "cell_type": "markdown",
      "metadata": {
        "id": "hzz6oJHr5AQc"
      },
      "source": [
        "### Train on new data balanced"
      ]
    },
    {
      "cell_type": "code",
      "metadata": {
        "id": "LV15Krmb5Dwu"
      },
      "source": [
        "agreed = pd.read_csv('agreed_downsample_75k.csv')\n",
        "disagreed = pd.read_csv('disagreed_upsample_75k.csv')\n",
        "unrealted = pd.read_csv('unrelated_downsample_75k.csv')\n"
      ],
      "execution_count": null,
      "outputs": []
    },
    {
      "cell_type": "code",
      "metadata": {
        "id": "xsNXN7W-5aQF"
      },
      "source": [
        "agreed_data = agreed\n",
        "unrealted_data = unrealted\n",
        "disagreed_data = disagreed"
      ],
      "execution_count": null,
      "outputs": []
    },
    {
      "cell_type": "code",
      "metadata": {
        "id": "C3A1_0YJDzIR"
      },
      "source": [
        "print(agreed_data, agreed_data.shape)"
      ],
      "execution_count": null,
      "outputs": []
    },
    {
      "cell_type": "code",
      "metadata": {
        "id": "uT347eod-ycE"
      },
      "source": [
        "labels = pd.DataFrame([\"agreed\"]*75000)\n",
        "agreed_data[\"label\"] = labels\n",
        "agreed_data = agreed_data.drop(\"mean\", 1)\n",
        "a_shuffle = shuffle(agreed_data)\n",
        "print(a_shuffle, a_shuffle.shape)\n",
        "# labels = pd.DataFrame([\"disagreed\"]*75000)\n",
        "# disagreed = pd.concat([disagreed, labels], axis=1)\n",
        "# labels = pd.DataFrame([\"unrelated\"]*75000)\n",
        "# unrealted = pd.concat([unrealted, labels], axis=1)\n",
        "# print(agreed.shape, disagreed.shape, unrealted.shape)\n"
      ],
      "execution_count": null,
      "outputs": []
    },
    {
      "cell_type": "code",
      "metadata": {
        "id": "9VBXx1luFWWv"
      },
      "source": [
        "labels = pd.DataFrame([\"disagreed\"]*75000)\n",
        "disagreed_data[\"label\"] = labels\n",
        "disagreed_data = disagreed_data.drop(\"mean\", 1)\n",
        "dis_shuffle = shuffle(disagreed_data)\n",
        "print(dis_shuffle, dis_shuffle.shape)"
      ],
      "execution_count": null,
      "outputs": []
    },
    {
      "cell_type": "code",
      "metadata": {
        "id": "ggfWcb6lFscH"
      },
      "source": [
        "labels = pd.DataFrame([\"unrelated\"]*75000)\n",
        "unrealted_data[\"label\"] = labels\n",
        "unrealted_data = unrealted_data.drop(\"mean\", 1)\n",
        "u_shuffle = shuffle(unrealted_data)\n",
        "print(u_shuffle, u_shuffle.shape)"
      ],
      "execution_count": null,
      "outputs": []
    },
    {
      "cell_type": "code",
      "metadata": {
        "id": "JOgUrnPN7MkE"
      },
      "source": [
        "final_data = pd.concat([agreed_data, disagreed_data, unrealted_data], axis=0)\n",
        "print(final_data.shape, final_data)"
      ],
      "execution_count": null,
      "outputs": []
    },
    {
      "cell_type": "code",
      "metadata": {
        "id": "LvXro5zP8bJ6"
      },
      "source": [
        "final_data = shuffle(final_data)\n",
        "print(final_data)\n",
        "final_data.to_csv(\"final_data_merged.csv\", index=False)"
      ],
      "execution_count": null,
      "outputs": []
    },
    {
      "cell_type": "code",
      "metadata": {
        "id": "LSYuQHhzI-Nz"
      },
      "source": [
        "final_data = pd.read_csv(\"final_data_merged.csv\")"
      ],
      "execution_count": null,
      "outputs": []
    },
    {
      "cell_type": "code",
      "metadata": {
        "id": "i_Yu1-PWCKTy"
      },
      "source": [
        "final_data = pd.read_csv(\"final_data_new_merged.csv\")"
      ],
      "execution_count": null,
      "outputs": []
    },
    {
      "cell_type": "code",
      "metadata": {
        "id": "noqyxnBs8EbG"
      },
      "source": [
        "train = pd.read_csv(\"Merged_Train_OG.csv\")\n",
        "val = pd.read_csv(\"Merged_Val_OG.csv\")"
      ],
      "execution_count": null,
      "outputs": []
    },
    {
      "cell_type": "code",
      "metadata": {
        "colab": {
          "base_uri": "https://localhost:8080/"
        },
        "id": "tm9f9iJd8xOU",
        "outputId": "eb20016f-4edd-40c6-dce8-d09c997b490a"
      },
      "source": [
        "train.shape, val.shape"
      ],
      "execution_count": null,
      "outputs": [
        {
          "output_type": "execute_result",
          "data": {
            "text/plain": [
              "((205154, 1025), (51288, 1025))"
            ]
          },
          "metadata": {
            "tags": []
          },
          "execution_count": 6
        }
      ]
    },
    {
      "cell_type": "code",
      "metadata": {
        "colab": {
          "base_uri": "https://localhost:8080/"
        },
        "id": "fLkoL7MXBpMB",
        "outputId": "33417d90-da19-47af-f62c-f6c0d0d95b46"
      },
      "source": [
        "features = final_data.iloc[:, :1025]\n",
        "labels = final_data.iloc[:, 1025:1026]\n",
        "print(features.shape, labels.shape)"
      ],
      "execution_count": null,
      "outputs": [
        {
          "output_type": "stream",
          "text": [
            "(300000, 1025) (300000, 1)\n"
          ],
          "name": "stdout"
        }
      ]
    },
    {
      "cell_type": "code",
      "metadata": {
        "id": "Ghqtkcdf81x9"
      },
      "source": [
        "train_x = train.iloc[:, :1024]\n",
        "train_y = train.iloc[:, 1024:1025]\n",
        "val_x = val.iloc[:, :1024]\n",
        "val_y = val.iloc[:, 1024:1025]\n",
        "print(train_x.shape, train_y.shape)"
      ],
      "execution_count": null,
      "outputs": []
    },
    {
      "cell_type": "code",
      "metadata": {
        "id": "AskGnMfbOOFS"
      },
      "source": [
        "from sklearn.preprocessing import LabelEncoder\n",
        "from tensorflow.keras.utils import to_categorical"
      ],
      "execution_count": null,
      "outputs": []
    },
    {
      "cell_type": "code",
      "metadata": {
        "colab": {
          "base_uri": "https://localhost:8080/"
        },
        "id": "vIcSachveNfC",
        "outputId": "a03eaeb6-496a-4348-f4e1-eaef8ae2804e"
      },
      "source": [
        "encoder = LabelEncoder()\n",
        "encoder.fit(labels)\n",
        "labels = encoder.transform(labels)\n",
        "labels = to_categorical(labels)"
      ],
      "execution_count": null,
      "outputs": [
        {
          "output_type": "stream",
          "text": [
            "/usr/local/lib/python3.6/dist-packages/sklearn/preprocessing/_label.py:235: DataConversionWarning: A column-vector y was passed when a 1d array was expected. Please change the shape of y to (n_samples, ), for example using ravel().\n",
            "  y = column_or_1d(y, warn=True)\n",
            "/usr/local/lib/python3.6/dist-packages/sklearn/preprocessing/_label.py:268: DataConversionWarning: A column-vector y was passed when a 1d array was expected. Please change the shape of y to (n_samples, ), for example using ravel().\n",
            "  y = column_or_1d(y, warn=True)\n"
          ],
          "name": "stderr"
        }
      ]
    },
    {
      "cell_type": "code",
      "metadata": {
        "colab": {
          "base_uri": "https://localhost:8080/"
        },
        "id": "0vx6K1MoIfZP",
        "outputId": "5e205bf8-e50d-4cb3-8d48-cbc1e163af02"
      },
      "source": [
        "encoder = LabelEncoder()\n",
        "encoder.fit(train_y)\n",
        "train_y = encoder.transform(train_y)\n",
        "train_y = to_categorical(train_y)\n",
        "\n",
        "encoder = LabelEncoder()\n",
        "encoder.fit(val_y)\n",
        "val_y = encoder.transform(val_y)\n",
        "val_y = to_categorical(val_y)"
      ],
      "execution_count": null,
      "outputs": [
        {
          "output_type": "stream",
          "text": [
            "/usr/local/lib/python3.6/dist-packages/sklearn/preprocessing/_label.py:235: DataConversionWarning: A column-vector y was passed when a 1d array was expected. Please change the shape of y to (n_samples, ), for example using ravel().\n",
            "  y = column_or_1d(y, warn=True)\n",
            "/usr/local/lib/python3.6/dist-packages/sklearn/preprocessing/_label.py:268: DataConversionWarning: A column-vector y was passed when a 1d array was expected. Please change the shape of y to (n_samples, ), for example using ravel().\n",
            "  y = column_or_1d(y, warn=True)\n"
          ],
          "name": "stderr"
        }
      ]
    },
    {
      "cell_type": "code",
      "metadata": {
        "id": "T1D1h2yUwl8u"
      },
      "source": [
        "val_x = np.array(features[:10000])\n",
        "val_y = labels[:10000]\n",
        "\n",
        "train_x = np.array(features[10000:])\n",
        "train_y = labels[10000:]"
      ],
      "execution_count": null,
      "outputs": []
    },
    {
      "cell_type": "markdown",
      "metadata": {
        "id": "hc0PUiyT_67T"
      },
      "source": [
        "#### Full connected"
      ]
    },
    {
      "cell_type": "code",
      "metadata": {
        "id": "eHM8S9unuMj7"
      },
      "source": [
        "model = Sequential()\n",
        "\n",
        "model.add(Dense(units=256, activation='relu'))\n",
        "model.add(Dropout(0.3))\n",
        "model.add(BatchNormalization())\n",
        "\n",
        "model.add(Dense(units=128, activation='relu'))\n",
        "model.add(Dropout(0.3))\n",
        "model.add(BatchNormalization())\n",
        "\n",
        "model.add(Dense(units=64,activation='relu'))\n",
        "model.add(Dropout(0.3))\n",
        "model.add(BatchNormalization())\n",
        "\n",
        "model.add(Dense(units=32, activation='relu'))\n",
        "model.add(Dense(3, activation='softmax'))\n",
        "model.compile(loss='categorical_crossentropy', optimizer=\"adam\", metrics=['accuracy'])"
      ],
      "execution_count": null,
      "outputs": []
    },
    {
      "cell_type": "code",
      "metadata": {
        "colab": {
          "base_uri": "https://localhost:8080/"
        },
        "id": "F0AQoG9bRTa6",
        "outputId": "79ed5c5b-c90a-4ff6-c1cb-0e9966878077"
      },
      "source": [
        "model.build(input_shape=(None, 1024))\n",
        "model.summary()"
      ],
      "execution_count": null,
      "outputs": [
        {
          "output_type": "stream",
          "text": [
            "Model: \"sequential_1\"\n",
            "_________________________________________________________________\n",
            "Layer (type)                 Output Shape              Param #   \n",
            "=================================================================\n",
            "dense_5 (Dense)              (None, 256)               262400    \n",
            "_________________________________________________________________\n",
            "dropout_3 (Dropout)          (None, 256)               0         \n",
            "_________________________________________________________________\n",
            "batch_normalization_3 (Batch (None, 256)               1024      \n",
            "_________________________________________________________________\n",
            "dense_6 (Dense)              (None, 128)               32896     \n",
            "_________________________________________________________________\n",
            "dropout_4 (Dropout)          (None, 128)               0         \n",
            "_________________________________________________________________\n",
            "batch_normalization_4 (Batch (None, 128)               512       \n",
            "_________________________________________________________________\n",
            "dense_7 (Dense)              (None, 64)                8256      \n",
            "_________________________________________________________________\n",
            "dropout_5 (Dropout)          (None, 64)                0         \n",
            "_________________________________________________________________\n",
            "batch_normalization_5 (Batch (None, 64)                256       \n",
            "_________________________________________________________________\n",
            "dense_8 (Dense)              (None, 32)                2080      \n",
            "_________________________________________________________________\n",
            "dense_9 (Dense)              (None, 3)                 99        \n",
            "=================================================================\n",
            "Total params: 307,523\n",
            "Trainable params: 306,627\n",
            "Non-trainable params: 896\n",
            "_________________________________________________________________\n"
          ],
          "name": "stdout"
        }
      ]
    },
    {
      "cell_type": "code",
      "metadata": {
        "id": "_i7ALuYrj7i2"
      },
      "source": [
        "from tensorflow import keras"
      ],
      "execution_count": null,
      "outputs": []
    },
    {
      "cell_type": "markdown",
      "metadata": {
        "id": "l7sV_bbb_84R"
      },
      "source": [
        "#### LSTM"
      ]
    },
    {
      "cell_type": "code",
      "metadata": {
        "id": "wjzYt8zD_gwY"
      },
      "source": [
        "model = Sequential()\n",
        "model.add(LSTM(units=256, return_sequences=True, kernel_initializer='he_normal'))\n",
        "model.add(Dropout(0.3))\n",
        "model.add(BatchNormalization())\n",
        "model.add(LSTM(units=256, return_sequences=True, go_backwards=True, kernel_initializer='he_normal'))\n",
        "model.add(Dropout(0.3))\n",
        "model.add(BatchNormalization())\n",
        "model.add(LSTM(units=128, kernel_initializer='he_normal'))\n",
        "model.add(Dense(3, activation='softmax'))\n",
        "model.compile(loss='categorical_crossentropy', optimizer=\"adam\", metrics=['accuracy'])"
      ],
      "execution_count": null,
      "outputs": []
    },
    {
      "cell_type": "markdown",
      "metadata": {
        "id": "oXJU7CAC_-9l"
      },
      "source": [
        "#### Bi-LSTM"
      ]
    },
    {
      "cell_type": "code",
      "metadata": {
        "id": "SZsPVMGf_6Di"
      },
      "source": [
        "model = Sequential()\n",
        "model.add(Bidirectional(LSTM(units=512, return_sequences=True, kernel_initializer='he_normal')))\n",
        "model.add(Dropout(0.5))\n",
        "model.add(BatchNormalization())\n",
        "model.add(Bidirectional(LSTM(units=512, return_sequences=True, go_backwards=True, kernel_initializer='he_normal')))\n",
        "model.add(Dropout(0.3))\n",
        "# model.add(Bidirectional(LSTM(units=256, return_sequences=True, go_backwards=True, kernel_initializer='he_normal')))\n",
        "# model.add(Dropout(0.3))\n",
        "# model.add(BatchNormalization())\n",
        "# model.add(Bidirectional(LSTM(units=256, kernel_initializer='he_normal')))\n",
        "# model.add(Dropout(0.5))\n",
        "# model.add(BatchNormalization())\n",
        "# model.add(Flatten())\n",
        "model.add(Dense(128, activation=\"relu\"))\n",
        "model.add(Dropout(0.2))\n",
        "model.add(Dense(128, activation=\"relu\"))\n",
        "model.add(Dense(3, activation='softmax'))\n",
        "model.compile(loss='categorical_crossentropy', optimizer=\"adam\", metrics=['accuracy'])"
      ],
      "execution_count": null,
      "outputs": []
    },
    {
      "cell_type": "code",
      "metadata": {
        "colab": {
          "base_uri": "https://localhost:8080/"
        },
        "id": "k6G9VGH-Rttk",
        "outputId": "9884cfad-8aeb-4a0c-d45c-7d3c11737e4e"
      },
      "source": [
        "model.build(input_shape=(None,1, 1024))\n",
        "model.summary()"
      ],
      "execution_count": null,
      "outputs": [
        {
          "output_type": "stream",
          "text": [
            "Model: \"sequential_2\"\n",
            "_________________________________________________________________\n",
            "Layer (type)                 Output Shape              Param #   \n",
            "=================================================================\n",
            "bidirectional (Bidirectional multiple                  6295552   \n",
            "_________________________________________________________________\n",
            "dropout_6 (Dropout)          multiple                  0         \n",
            "_________________________________________________________________\n",
            "batch_normalization_6 (Batch multiple                  4096      \n",
            "_________________________________________________________________\n",
            "bidirectional_1 (Bidirection multiple                  6295552   \n",
            "_________________________________________________________________\n",
            "dropout_7 (Dropout)          multiple                  0         \n",
            "_________________________________________________________________\n",
            "dense_10 (Dense)             multiple                  131200    \n",
            "_________________________________________________________________\n",
            "dropout_8 (Dropout)          multiple                  0         \n",
            "_________________________________________________________________\n",
            "dense_11 (Dense)             multiple                  16512     \n",
            "_________________________________________________________________\n",
            "dense_12 (Dense)             multiple                  387       \n",
            "=================================================================\n",
            "Total params: 12,743,299\n",
            "Trainable params: 12,741,251\n",
            "Non-trainable params: 2,048\n",
            "_________________________________________________________________\n"
          ],
          "name": "stdout"
        }
      ]
    },
    {
      "cell_type": "markdown",
      "metadata": {
        "id": "Rvu-acJyUfRt"
      },
      "source": [
        "#### CNN + Dense"
      ]
    },
    {
      "cell_type": "code",
      "metadata": {
        "id": "VsGLt9p-TOwW"
      },
      "source": [
        "model = Sequential()\n",
        "model.add(Conv1D(filters=256, kernel_size=1, padding='same', activation='relu', kernel_initializer='he_normal',input_shape=(1, 1024)))\n",
        "model.add(MaxPooling1D(pool_size=1))\n",
        "model.add(BatchNormalization())\n",
        "model.add(Dropout(0.5))\n",
        "model.add(Conv1D(filters=512, kernel_size=1, padding='same', activation='relu', kernel_initializer='he_normal',input_shape=(1, 1024)))\n",
        "model.add(MaxPooling1D(pool_size=1))\n",
        "model.add(BatchNormalization())\n",
        "model.add(Dropout(0.5))\n",
        "model.add(Conv1D(filters=256, kernel_size=1, padding='same', activation='relu', kernel_initializer='he_normal',input_shape=(1, 1024)))\n",
        "model.add(MaxPooling1D(pool_size=1))\n",
        "model.add(BatchNormalization())\n",
        "model.add(Dropout(0.5))\n",
        "model.add(Dense(128, activation=\"relu\"))\n",
        "model.add(BatchNormalization())\n",
        "model.add(Dropout(0.5))\n",
        "model.add(Dense(128, activation=\"relu\"))\n",
        "model.add(Dense(3, activation='softmax'))\n",
        "model.compile(loss='categorical_crossentropy', optimizer=\"adam\", metrics=['accuracy'])"
      ],
      "execution_count": null,
      "outputs": []
    },
    {
      "cell_type": "code",
      "metadata": {
        "id": "dlbLWA5wR-ax",
        "colab": {
          "base_uri": "https://localhost:8080/"
        },
        "outputId": "ac991c7c-a129-4657-a053-2681c5b51098"
      },
      "source": [
        "model.build(input_shape=(None,1, 1024))\n",
        "model.summary()"
      ],
      "execution_count": null,
      "outputs": [
        {
          "output_type": "stream",
          "text": [
            "Model: \"sequential_3\"\n",
            "_________________________________________________________________\n",
            "Layer (type)                 Output Shape              Param #   \n",
            "=================================================================\n",
            "conv1d (Conv1D)              (None, 1, 256)            262400    \n",
            "_________________________________________________________________\n",
            "max_pooling1d (MaxPooling1D) (None, 1, 256)            0         \n",
            "_________________________________________________________________\n",
            "batch_normalization_7 (Batch (None, 1, 256)            1024      \n",
            "_________________________________________________________________\n",
            "dropout_9 (Dropout)          (None, 1, 256)            0         \n",
            "_________________________________________________________________\n",
            "conv1d_1 (Conv1D)            (None, 1, 512)            131584    \n",
            "_________________________________________________________________\n",
            "max_pooling1d_1 (MaxPooling1 (None, 1, 512)            0         \n",
            "_________________________________________________________________\n",
            "batch_normalization_8 (Batch (None, 1, 512)            2048      \n",
            "_________________________________________________________________\n",
            "dropout_10 (Dropout)         (None, 1, 512)            0         \n",
            "_________________________________________________________________\n",
            "conv1d_2 (Conv1D)            (None, 1, 256)            131328    \n",
            "_________________________________________________________________\n",
            "max_pooling1d_2 (MaxPooling1 (None, 1, 256)            0         \n",
            "_________________________________________________________________\n",
            "batch_normalization_9 (Batch (None, 1, 256)            1024      \n",
            "_________________________________________________________________\n",
            "dropout_11 (Dropout)         (None, 1, 256)            0         \n",
            "_________________________________________________________________\n",
            "dense_13 (Dense)             (None, 1, 128)            32896     \n",
            "_________________________________________________________________\n",
            "batch_normalization_10 (Batc (None, 1, 128)            512       \n",
            "_________________________________________________________________\n",
            "dropout_12 (Dropout)         (None, 1, 128)            0         \n",
            "_________________________________________________________________\n",
            "dense_14 (Dense)             (None, 1, 128)            16512     \n",
            "_________________________________________________________________\n",
            "dense_15 (Dense)             (None, 1, 3)              387       \n",
            "=================================================================\n",
            "Total params: 579,715\n",
            "Trainable params: 577,411\n",
            "Non-trainable params: 2,304\n",
            "_________________________________________________________________\n"
          ],
          "name": "stdout"
        }
      ]
    },
    {
      "cell_type": "markdown",
      "metadata": {
        "id": "UBAp6qa6FUFQ"
      },
      "source": [
        "### TALOS Network"
      ]
    },
    {
      "cell_type": "code",
      "metadata": {
        "id": "22ez-WdWFYvn"
      },
      "source": [
        "model = Sequential()\n",
        "model.add(Conv1D(filters=256, kernel_size=1, padding='same', activation='relu', kernel_initializer='he_normal',input_shape=(1, 1024)))\n",
        "# model.add(MaxPooling1D(pool_size=1))\n",
        "model.add(BatchNormalization())\n",
        "model.add(Dropout(0.5))\n",
        "model.add(Conv1D(filters=256, kernel_size=1, padding='same', activation='relu', kernel_initializer='he_normal',input_shape=(1, 1024)))\n",
        "# model.add(MaxPooling1D(pool_size=1))\n",
        "model.add(BatchNormalization())\n",
        "model.add(Dropout(0.5))\n",
        "model.add(Conv1D(filters=512, kernel_size=1, padding='same', activation='relu', kernel_initializer='he_normal',input_shape=(1, 1024)))\n",
        "# model.add(MaxPooling1D(pool_size=1))\n",
        "model.add(BatchNormalization())\n",
        "model.add(Dropout(0.5))\n",
        "model.add(Conv1D(filters=512, kernel_size=1, padding='same', activation='relu', kernel_initializer='he_normal',input_shape=(1, 1024)))\n",
        "# model.add(MaxPooling1D(pool_size=1))\n",
        "model.add(BatchNormalization())\n",
        "model.add(Dropout(0.5))\n",
        "model.add(Conv1D(filters=768, kernel_size=1, padding='same', activation='relu', kernel_initializer='he_normal',input_shape=(1, 1024)))\n",
        "# model.add(MaxPooling1D(pool_size=1))\n",
        "model.add(BatchNormalization())\n",
        "model.add(Dropout(0.5))\n",
        "model.add(Dense(1024, activation='relu'))\n",
        "model.add(BatchNormalization())\n",
        "model.add(Dropout(0.5))\n",
        "model.add(Dense(1024, activation='relu'))\n",
        "model.add(BatchNormalization())\n",
        "model.add(Dropout(0.5))\n",
        "model.add(Dense(3, activation='softmax'))\n",
        "model.compile(loss='categorical_crossentropy', optimizer=\"adam\", metrics=['accuracy'])"
      ],
      "execution_count": null,
      "outputs": []
    },
    {
      "cell_type": "markdown",
      "metadata": {
        "id": "4qqNfvFq_fUW"
      },
      "source": [
        "### ResNet"
      ]
    },
    {
      "cell_type": "code",
      "metadata": {
        "id": "Kq8q2mpl-WTy"
      },
      "source": [
        "  \n",
        "x = Input(shape=(None,  1024))\n",
        "y = Conv1D(256, 1, activation=\"relu\")(x)\n",
        "y = BatchNormalization()(y)\n",
        "y = MaxPooling1D(1)(y)\n",
        "\n",
        "y = Conv1D(256, 1, activation=\"relu\")(y)\n",
        "y = BatchNormalization()(y)\n",
        "y = Dropout(0.5)(y)\n",
        "y = MaxPooling1D(1)(y)\n",
        "\n",
        "y = Conv1D(512, 1, activation=\"relu\")(y)\n",
        "y = BatchNormalization()(y)\n",
        "y = Dropout(0.5)(y)\n",
        "y = MaxPooling1D(1)(y)\n",
        "\n",
        "\n",
        "y = Conv1D(128, 1, activation=\"relu\")(y)\n",
        "y = BatchNormalization()(y)\n",
        "y = Dropout(0.5)(y)\n",
        "\n",
        "residual = Dense(128, activation=\"relu\")(x)\n",
        "\n",
        "y = add([y, residual])\n",
        "\n",
        "out = Dense(3, activation='softmax')(y)\n",
        "\n",
        "model = Model(inputs=x, outputs=out)\n",
        "model.summary()\n",
        "sgd = optimizers.SGD(lr=0.001, decay=1e-6, momentum=0.9, nesterov=True)\n",
        "model.compile(loss='categorical_crossentropy',\n",
        "              optimizer='adam',\n",
        "              metrics=['accuracy'])"
      ],
      "execution_count": null,
      "outputs": []
    },
    {
      "cell_type": "code",
      "metadata": {
        "id": "_M0MD1saCcxt"
      },
      "source": [
        "tensorflow.config.run_functions_eagerly(True)"
      ],
      "execution_count": null,
      "outputs": []
    },
    {
      "cell_type": "code",
      "metadata": {
        "id": "KUchFSnVIApF"
      },
      "source": [
        "train_x = np.array(train_x).reshape((train_x.shape[0],1, train_x.shape[1]))\n",
        "train_y = np.array(train_y).reshape((train_y.shape[0],1, train_y.shape[1]))\n"
      ],
      "execution_count": null,
      "outputs": []
    },
    {
      "cell_type": "code",
      "metadata": {
        "id": "rzNpYC_Wpf4s"
      },
      "source": [
        "val_x = np.array(val_x).reshape((val_x.shape[0],1, val_x.shape[1]))\n",
        "val_y = val_y.reshape((val_y.shape[0],1, val_y.shape[1]))"
      ],
      "execution_count": null,
      "outputs": []
    },
    {
      "cell_type": "code",
      "metadata": {
        "colab": {
          "base_uri": "https://localhost:8080/"
        },
        "id": "o5-wyS7cpp1U",
        "outputId": "7818babb-8d44-4ca1-8a3c-b75cc8649b57"
      },
      "source": [
        "val_y.shape, train_y.shape"
      ],
      "execution_count": null,
      "outputs": [
        {
          "output_type": "execute_result",
          "data": {
            "text/plain": [
              "((10000, 1, 62), (290000, 1, 62))"
            ]
          },
          "metadata": {
            "tags": []
          },
          "execution_count": 14
        }
      ]
    },
    {
      "cell_type": "code",
      "metadata": {
        "id": "EniQgPomPWTg"
      },
      "source": [
        "model.summary()"
      ],
      "execution_count": null,
      "outputs": []
    },
    {
      "cell_type": "code",
      "metadata": {
        "colab": {
          "background_save": true,
          "base_uri": "https://localhost:8080/"
        },
        "id": "24SEJ3Jyxx2S",
        "outputId": "b02eb754-5552-4fb8-d3bf-2c6d0d435315"
      },
      "source": [
        "history = model.fit(train_x, train_y, epochs=10, validation_data = (val_x, val_y), batch_size=256)\n",
        "history = history.history"
      ],
      "execution_count": null,
      "outputs": [
        {
          "output_type": "stream",
          "text": [
            "/usr/local/lib/python3.6/dist-packages/tensorflow/python/data/ops/dataset_ops.py:3350: UserWarning: Even though the tf.config.experimental_run_functions_eagerly option is set, this option does not apply to tf.data functions. tf.data functions are still traced and executed as graphs.\n",
            "  \"Even though the tf.config.experimental_run_functions_eagerly \"\n"
          ],
          "name": "stderr"
        },
        {
          "output_type": "stream",
          "text": [
            "Epoch 1/10\n",
            "1133/1133 [==============================] - 54s 48ms/step - loss: 0.5956 - accuracy: 0.7081 - val_loss: 0.4217 - val_accuracy: 0.7982\n",
            "Epoch 2/10\n",
            "1133/1133 [==============================] - 54s 48ms/step - loss: 0.4205 - accuracy: 0.8090 - val_loss: 0.3270 - val_accuracy: 0.8528\n",
            "Epoch 3/10\n",
            "1133/1133 [==============================] - 52s 46ms/step - loss: 0.3542 - accuracy: 0.8433 - val_loss: 0.2966 - val_accuracy: 0.8699\n",
            "Epoch 4/10\n",
            "1133/1133 [==============================] - 52s 46ms/step - loss: 0.3156 - accuracy: 0.8626 - val_loss: 0.2712 - val_accuracy: 0.8842\n",
            "Epoch 5/10\n",
            "1133/1133 [==============================] - 52s 46ms/step - loss: 0.2838 - accuracy: 0.8787 - val_loss: 0.2542 - val_accuracy: 0.8932\n",
            "Epoch 6/10\n",
            "1133/1133 [==============================] - 54s 48ms/step - loss: 0.2631 - accuracy: 0.8887 - val_loss: 0.2349 - val_accuracy: 0.9035\n",
            "Epoch 7/10\n",
            "1133/1133 [==============================] - 54s 47ms/step - loss: 0.2427 - accuracy: 0.8984 - val_loss: 0.2301 - val_accuracy: 0.9074\n",
            "Epoch 8/10\n",
            "1133/1133 [==============================] - 54s 47ms/step - loss: 0.2268 - accuracy: 0.9066 - val_loss: 0.2148 - val_accuracy: 0.9143\n",
            "Epoch 9/10\n",
            "1133/1133 [==============================] - 53s 46ms/step - loss: 0.2142 - accuracy: 0.9121 - val_loss: 0.2189 - val_accuracy: 0.9142\n",
            "Epoch 10/10\n",
            "1133/1133 [==============================] - 53s 46ms/step - loss: 0.2001 - accuracy: 0.9187 - val_loss: 0.2020 - val_accuracy: 0.9217\n"
          ],
          "name": "stdout"
        }
      ]
    },
    {
      "cell_type": "code",
      "metadata": {
        "id": "Gwx2Wta0JLNX"
      },
      "source": [
        "history"
      ],
      "execution_count": null,
      "outputs": []
    },
    {
      "cell_type": "code",
      "metadata": {
        "id": "DzsbJKupKrUP"
      },
      "source": [
        "model.save(\"simple-feed-forward\")"
      ],
      "execution_count": null,
      "outputs": []
    },
    {
      "cell_type": "code",
      "metadata": {
        "id": "l8auf6bKOPEr"
      },
      "source": [
        "model = load_model(\"talos_network\")"
      ],
      "execution_count": null,
      "outputs": []
    },
    {
      "cell_type": "code",
      "metadata": {
        "colab": {
          "base_uri": "https://localhost:8080/",
          "height": 265
        },
        "id": "LZg7cb43sHZe",
        "outputId": "d23fbeed-e46e-4cd1-d510-12a1b7a8b53a"
      },
      "source": [
        "\n",
        "train_loss = history[\"loss\"]\n",
        "val_loss = history[\"val_loss\"]\n",
        "epochs = range(1, len(train_loss)+1)\n",
        "\n",
        "plt.plot(epochs, train_loss, label=\"train loss\")\n",
        "plt.plot(epochs, val_loss, label=\"validation loss\")\n",
        "plt.legend()\n",
        "plt.show()"
      ],
      "execution_count": null,
      "outputs": [
        {
          "output_type": "display_data",
          "data": {
            "image/png": "[encoded data removed]",
            "text/plain": [
              "<Figure size 432x288 with 1 Axes>"
            ]
          },
          "metadata": {
            "tags": []
          }
        }
      ]
    },
    {
      "cell_type": "code",
      "metadata": {
        "id": "zYJlCoIuHB2n"
      },
      "source": [
        "train_loss = history[\"accuracy\"]\n",
        "val_loss = history[\"val_accuracy\"]\n",
        "epochs = range(1, len(train_loss)+1)\n",
        "\n",
        "plt.plot(epochs, train_loss, label=\"train acc\")\n",
        "plt.plot(epochs, val_loss, label=\"validation acc\")\n",
        "plt.legend()\n",
        "plt.show()"
      ],
      "execution_count": null,
      "outputs": []
    }
  ]
}