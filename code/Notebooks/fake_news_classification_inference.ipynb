{
  "nbformat": 4,
  "nbformat_minor": 0,
  "metadata": {
    "colab": {
      "name": "fake_news_classification_inference.ipynb",
      "provenance": []
    },
    "kernelspec": {
      "name": "python3",
      "display_name": "Python 3"
    }
  },
  "cells": [
    {
      "cell_type": "code",
      "metadata": {
        "id": "0zFs256qPZi6"
      },
      "source": [
        "import pandas as pd\n",
        "import numpy as np\n",
        "import matplotlib.pyplot as plt\n",
        "\n",
        "import tensorflow as tf\n",
        "import tensorflow_hub as hub\n",
        "from tensorflow.keras.layers import Conv1D\n",
        "from tensorflow.keras.layers import LSTM, Bidirectional\n",
        "from tensorflow.keras.layers import Dense, Flatten, MaxPooling1D, Input, Activation, concatenate\n",
        "from tensorflow.keras.models import Sequential, Model\n",
        "from sklearn.preprocessing import OneHotEncoder\n",
        "from tensorflow.keras.layers import Dropout, BatchNormalization, GaussianNoise\n",
        "from sklearn.utils import resample\n",
        "from sklearn.utils import shuffle\n",
        "from tensorflow.keras.models import load_model"
      ],
      "execution_count": null,
      "outputs": []
    },
    {
      "cell_type": "code",
      "metadata": {
        "id": "Uif3patwPiIM"
      },
      "source": [
        "data = pd.read_csv(\"test.csv\", sep=\",\")\n",
        "print(data.shape, data.columns)\n",
        "data = data.dropna()\n",
        "features1 = data[\"title1_en\"]\n",
        "features2 = data[\"title2_en\"]"
      ],
      "execution_count": null,
      "outputs": []
    },
    {
      "cell_type": "code",
      "metadata": {
        "id": "aI8vfUhEPtd4"
      },
      "source": [
        "embed = hub.load(\"https://tfhub.dev/google/universal-sentence-encoder/4\")"
      ],
      "execution_count": null,
      "outputs": []
    },
    {
      "cell_type": "code",
      "metadata": {
        "id": "PxpZ03j3P37q"
      },
      "source": [
        "embedded_features1 = embed(features1)\n",
        "embedded_features1 = np.array(embedded_features1)\n",
        "result = pd.DataFrame(embedded_features1)\n",
        "result.to_csv(\"features1.csv\", index=False)"
      ],
      "execution_count": null,
      "outputs": []
    },
    {
      "cell_type": "code",
      "metadata": {
        "id": "mbgtVV-mQL2f"
      },
      "source": [
        "embedded_features2 = embed(features2)\n",
        "embedded_features2 = np.array(embedded_features2)\n",
        "result = pd.DataFrame(embedded_features2)\n",
        "result.to_csv(\"features2.csv\", index=False)"
      ],
      "execution_count": null,
      "outputs": []
    },
    {
      "cell_type": "code",
      "metadata": {
        "id": "QDKd8tm9Q0g3"
      },
      "source": [
        "features1 = pd.read_csv(\"features1.csv\")\n",
        "features2 = pd.read_csv(\"features2.csv\")"
      ],
      "execution_count": null,
      "outputs": []
    },
    {
      "cell_type": "code",
      "metadata": {
        "id": "J9vbU172Q-LC"
      },
      "source": [
        "processed = pd.concat([features1, features2], axis=1)"
      ],
      "execution_count": null,
      "outputs": []
    },
    {
      "cell_type": "code",
      "metadata": {
        "id": "9e6baVhiW3oZ"
      },
      "source": [
        "processed = pd.read_csv(\"test_merged.csv\")"
      ],
      "execution_count": null,
      "outputs": []
    },
    {
      "cell_type": "code",
      "metadata": {
        "id": "JKOyt4WeW-dr"
      },
      "source": [
        "processed.shape"
      ],
      "execution_count": null,
      "outputs": []
    },
    {
      "cell_type": "code",
      "metadata": {
        "id": "vnNz4bfHRi4y"
      },
      "source": [
        "from sklearn.preprocessing import LabelEncoder\n",
        "from tensorflow.keras.utils import to_categorical"
      ],
      "execution_count": null,
      "outputs": []
    },
    {
      "cell_type": "markdown",
      "metadata": {
        "id": "q7LSpcJhjD4V"
      },
      "source": [
        "#### Testing 1 score 76"
      ]
    },
    {
      "cell_type": "code",
      "metadata": {
        "id": "sBykOsX7RrI3"
      },
      "source": [
        "a = Sequential()\n",
        "a.add(Dense(units=64, input_shape=(1024,),activation='relu'))\n",
        "a.add(Dropout(0.2))\n",
        "a.add(Dense(units=128, input_shape=(1024,),activation='relu'))\n",
        "a.add(Dense(units=32, input_shape=(1024,),activation='relu'))\n",
        "a.add(Dense(3, activation='softm.7790918e-01 6.1159653e-08 8.220908sentropy', optimizer=\"adam\", metrics=['accuracy'])"
      ],
      "execution_count": null,
      "outputs": []
    },
    {
      "cell_type": "markdown",
      "metadata": {
        "id": "rR5ozPLhjHIs"
      },
      "source": [
        "#### Testing 2"
      ]
    },
    {
      "cell_type": "code",
      "metadata": {
        "id": "RlFN_gcHi_8d"
      },
      "source": [
        "model = Sequential()\n",
        "model.add(LSTM(units=128, return_sequences=True, kernel_initializer='he_normal'))\n",
        "model.add(Dropout(0.5))\n",
        "model.add(BatchNormalization())\n",
        "model.add(LSTM(units=128, return_sequences=True, go_backwards=True, kernel_initializer='he_normal'))\n",
        "model.add(Dropout(0.5))\n",
        "model.add(BatchNormalization())\n",
        "model.add(LSTM(units=128, kernel_initializer='he_normal'))\n",
        "model.add(Dense(3, activation='softmax'))\n",
        "model.compile(loss='categorical_crossentropy', optimizer=\"adam\", metrics=['accuracy'])"
      ],
      "execution_count": null,
      "outputs": []
    },
    {
      "cell_type": "code",
      "metadata": {
        "id": "RPfe6UqeG-F1"
      },
      "source": [
        "input1 = Input(shape=(None, 512))\n",
        "inner = Conv1D(256, 1, padding='same', name='conv1', kernel_initializer='he_normal')(input1)\n",
        "inner = BatchNormalization()(inner)\n",
        "inner = Dropout(0.5)(inner)\n",
        "inner = Activation('relu')(inner)\n",
        "inner1 = MaxPooling1D(pool_size=1, name='max1')(inner)\n",
        "\n",
        "# inner = Conv1D(256, 1, padding='same', name='conv1', kernel_initializer='he_normal')(inner1)\n",
        "# inner = BatchNormalization()(inner)\n",
        "# inner = Dropout(0.5)(inner)\n",
        "# inner = Activation('relu')(inner)\n",
        "# inner1 = MaxPooling1D(pool_size=1, name='max1')(inner)\n",
        "\n",
        "# inner = Conv1D(512, 1, padding='same', name='conv1', kernel_initializer='he_normal')(inner1)\n",
        "# inner = BatchNormalization()(inner)\n",
        "# inner = Dropout(0.5)(inner)\n",
        "# inner = Activation('relu')(inner)\n",
        "# inner1 = MaxPooling1D(pool_size=1, name='max1')(inner)\n",
        "\n",
        "# inner = Conv1D(512, 1, padding='same', name='conv1', kernel_initializer='he_normal')(inner1)\n",
        "# inner = BatchNormalization()(inner)\n",
        "# inner = Dropout(0.5)(inner)\n",
        "# inner = Activation('relu')(inner)\n",
        "# inner1 = MaxPooling1D(pool_size=1, name='max1')(inner)\n",
        "\n",
        "# inner = Conv1D(768, 1, padding='same', name='conv1', kernel_initializer='he_normal')(inner1)\n",
        "# inner = BatchNormalization()(inner)\n",
        "# inner = Dropout(0.5)(inner)\n",
        "# inner = Activation('relu')(inner)\n",
        "# inner1 = MaxPooling1D(pool_size=1, name='max1')(inner)\n",
        "\n",
        "\n",
        "input2 = Input(shape=(None, 512))\n",
        "inner2 = Conv1D(256, 1, padding='same', name='conv1', kernel_initializer='he_normal')(input2)\n",
        "inner2 = BatchNormalization()(inner2)\n",
        "inner2 = Dropout(0.5)(inner2)\n",
        "inner2 = Activation('relu')(inner2)\n",
        "inner2 = MaxPooling1D(pool_size=1, name='max1')(inner2)\n",
        "\n",
        "# inner2 = Conv1D(256, 1, padding='same', name='conv1', kernel_initializer='he_normal')(inner2)\n",
        "# inner2 = BatchNormalization()(inner2)\n",
        "# inner2 = Dropout(0.5)(inner2)\n",
        "# inner2 = Activation('relu')(inner2)\n",
        "# inner2 = MaxPooling1D(pool_size=1, name='max1')(inner2)\n",
        "\n",
        "# inner2 = Conv1D(512, 1, padding='same', name='conv1', kernel_initializer='he_normal')(inner2)\n",
        "# inner2 = BatchNormalization()(inner2)\n",
        "# inner2 = Dropout(0.5)(inner2)\n",
        "# inner2 = Activation('relu')(inner2)\n",
        "# inner2 = MaxPooling1D(pool_size=1, name='max1')(inner2)\n",
        "\n",
        "# inner2 = Conv1D(512, 1, padding='same', name='conv1', kernel_initializer='he_normal')(inner2)\n",
        "# inner2 = BatchNormalization()(inner2)\n",
        "# inner2 = Dropout(0.5)(inner2)\n",
        "# inner2 = Activation('relu')(inner2)\n",
        "# inner2 = MaxPooling1D(pool_size=1, name='max1')(inner2)\n",
        "\n",
        "# inner2 = Conv1D(768, 1, padding='same', name='conv1', kernel_initializer='he_normal')(inner2)\n",
        "# inner2 = BatchNormalization()(inner2)\n",
        "# inner2 = Dropout(0.5)(inner2)\n",
        "# inner2 = Activation('relu')(inner2)\n",
        "# inner2 = MaxPooling1D(pool_size=1, name='max1')(inner2)\n",
        "\n",
        "\n",
        "x = concatenate([input1, input2])\n",
        "\n",
        "x = Dense(1024, activation='relu')(x)\n",
        "x = BatchNormalization()(x)\n",
        "x = Dropout(0.5)(x)\n",
        "x = Dense(1024, activation='relu')(x)\n",
        "x = BatchNormalization()(x)\n",
        "x = Dropout(0.5)(x)\n",
        "x = Dense(1024, activation='relu')(x)\n",
        "\n",
        "x = Dense(3, activation='softmax')(x)\n",
        "\n",
        "model = Model(inputs=[input1, input2], outputs = x)\n",
        "model.compile(loss='categorical_crossentropy', optimizer='adam',  metrics=['accuracy'])"
      ],
      "execution_count": null,
      "outputs": []
    },
    {
      "cell_type": "code",
      "metadata": {
        "id": "HKM5tORjR__w"
      },
      "source": [
        "model = load_model(\"cnn+concat\")"
      ],
      "execution_count": null,
      "outputs": []
    },
    {
      "cell_type": "code",
      "metadata": {
        "id": "lZpvfhgKSp_p"
      },
      "source": [
        "mapping = {0:\"agreed\", 1:\"disagreed\", 2:\"unrelated\"}"
      ],
      "execution_count": null,
      "outputs": []
    },
    {
      "cell_type": "code",
      "metadata": {
        "id": "1YnsF7Yw59YX"
      },
      "source": [
        "processed = np.array(processed)"
      ],
      "execution_count": null,
      "outputs": []
    },
    {
      "cell_type": "code",
      "metadata": {
        "id": "e7CjgRT550tL"
      },
      "source": [
        "processed = processed.reshape((processed.shape[0],1, processed.shape[1]))\n"
      ],
      "execution_count": null,
      "outputs": []
    },
    {
      "cell_type": "code",
      "metadata": {
        "id": "Ndx1YHfU727w"
      },
      "source": [
        "feature1 = np.array(features1).reshape((features1.shape[0],1, features1.shape[1]))\n",
        "feature2 = np.array(features2).reshape((features2.shape[0],1, features2.shape[1]))\n"
      ],
      "execution_count": null,
      "outputs": []
    },
    {
      "cell_type": "code",
      "metadata": {
        "colab": {
          "base_uri": "https://localhost:8080/"
        },
        "id": "jiH5U-Sw7mUJ",
        "outputId": "f6404bcc-1e0d-4c17-ce78-e9b648c68d35"
      },
      "source": [
        "processed.shape"
      ],
      "execution_count": null,
      "outputs": [
        {
          "output_type": "execute_result",
          "data": {
            "text/plain": [
              "(64110, 1, 1024)"
            ]
          },
          "metadata": {
            "tags": []
          },
          "execution_count": 18
        }
      ]
    },
    {
      "cell_type": "code",
      "metadata": {
        "id": "kzqyVEMZUTrf"
      },
      "source": [
        "result = model.predict((feature1, feature2))"
      ],
      "execution_count": null,
      "outputs": []
    },
    {
      "cell_type": "code",
      "metadata": {
        "id": "ubvKkeBCKJdz"
      },
      "source": [
        "result = model.predict(processed)"
      ],
      "execution_count": null,
      "outputs": []
    },
    {
      "cell_type": "code",
      "metadata": {
        "id": "g-_HKldWaua6"
      },
      "source": [
        "predicted_labels = list()"
      ],
      "execution_count": null,
      "outputs": []
    },
    {
      "cell_type": "code",
      "metadata": {
        "id": "B7yYOQaXaKR4"
      },
      "source": [
        "for i in range(result.shape[0]):\n",
        "  print(i)\n",
        "  predicted_labels.append(mapping[np.argmax(result[i])])"
      ],
      "execution_count": null,
      "outputs": []
    },
    {
      "cell_type": "code",
      "metadata": {
        "id": "5sZa0L04ceso"
      },
      "source": [
        "data = pd.read_csv(\"test.csv\", sep=\",\")"
      ],
      "execution_count": null,
      "outputs": []
    },
    {
      "cell_type": "code",
      "metadata": {
        "id": "EJk_X_erSHM7"
      },
      "source": [
        "data[\"label\"] = pd.DataFrame(predicted_labels)"
      ],
      "execution_count": null,
      "outputs": []
    },
    {
      "cell_type": "code",
      "metadata": {
        "id": "bP72lX9mTS4P"
      },
      "source": [
        "data.to_csv(\"cnn+concat.csv\", index=False)"
      ],
      "execution_count": null,
      "outputs": []
    }
  ]
}