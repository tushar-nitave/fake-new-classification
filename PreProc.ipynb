{
 "cells": [
  {
   "cell_type": "code",
   "execution_count": 1,
   "metadata": {},
   "outputs": [],
   "source": [
    "import re\n",
    "from nltk.corpus import stopwords\n",
    "from nltk.stem.porter import PorterStemmer\n",
    "import pandas as pd\n",
    "from termcolor import colored\n",
    "import numpy as np"
   ]
  },
  {
   "cell_type": "code",
   "execution_count": 2,
   "metadata": {},
   "outputs": [],
   "source": [
    "def remove_stopwords(sentence):\n",
    "    english_stopwords = stopwords.words(\"english\")\n",
    "    return \" \".join(i for i in sentence.split(\" \") if i not in english_stopwords)\n"
   ]
  },
  {
   "cell_type": "code",
   "execution_count": 3,
   "metadata": {},
   "outputs": [],
   "source": [
    "def stemming(sentence):\n",
    "    stemmer = PorterStemmer()\n",
    "    return \" \".join(stemmer.stem(word) for word in sentence.split(\" \"))"
   ]
  },
  {
   "cell_type": "code",
   "execution_count": 4,
   "metadata": {},
   "outputs": [],
   "source": [
    "def pre_process(data):\n",
    "    \"\"\"\n",
    "    get data from the csv file\n",
    "    clean the data - lowercase, puncutations, html tags etc.\n",
    "    normalization - stemming\n",
    "    :return: title1 (sentences) and labels (sentiment)\n",
    "    \"\"\"\n",
    "    print(colored(\"1. Preprocessing Data\", \"yellow\"))\n",
    "   \n",
    "    REPLACE_NO_SPACE = re.compile(\"[_.;:!\\'?,\\\"\\(\\)\\[\\]<>]\")\n",
    "    REPLACE_WITH_SPACE = re.compile(\"(<br\\s*/><br\\s*/>)|(\\-)|(\\/)\")\n",
    "\n",
    "    # make lower case and remove puncutations\n",
    "    print(colored(\"\\t1.1 Cleaning data...\", \"yellow\"), end=\"\", flush=True)\n",
    "    title1 = [REPLACE_NO_SPACE.sub(\"\", line.lower()) for line in data[\"title1_en\"]]\n",
    "    title1 = [REPLACE_WITH_SPACE.sub(\" \", line) for line in title1]\n",
    "\n",
    "    title2 = [REPLACE_NO_SPACE.sub(\"\", line.lower()) for line in data[\"title2_en\"]]\n",
    "    title2 = [REPLACE_WITH_SPACE.sub(\" \", line) for line in title2]\n",
    "    print(colored(\" [Done]\", \"green\"))\n",
    "\n",
    "    print(colored(\"\\t1.2 Removing stopwords...\", \"yellow\"), end=\"\", flush=True)\n",
    "    title1 = [remove_stopwords(i) for i in title1]\n",
    "    title2 = [remove_stopwords(i) for i in title2]\n",
    "\n",
    "    print(colored(\" [Done]\", \"green\"))\n",
    "\n",
    "    print(colored(\"\\t1.3 Stemming...\", \"yellow\"), end=\"\", flush=True)\n",
    "    title1 = [stemming(i) for i in title1]\n",
    "    title2 = [stemming(i) for i in title2]\n",
    "\n",
    "    print(colored(\" [Done]\", \"green\"))\n",
    "#     labels = data[\"label\"]\n",
    "\n",
    "    return pd.DataFrame({'title1':title1, 'title2':title2})\n",
    "#     return pd.DataFrame({'title1':title1, 'title2':title2, 'label':labels})"
   ]
  },
  {
   "cell_type": "code",
   "execution_count": 5,
   "metadata": {},
   "outputs": [
    {
     "name": "stdout",
     "output_type": "stream",
     "text": [
      "\u001b[33m1. Preprocessing Data\u001b[0m\n",
      "\u001b[33m\t1.1 Cleaning data...\u001b[0m\u001b[32m [Done]\u001b[0m\n",
      "\u001b[33m\t1.2 Removing stopwords...\u001b[0m\u001b[32m [Done]\u001b[0m\n",
      "\u001b[33m\t1.3 Stemming...\u001b[0m\u001b[32m [Done]\u001b[0m\n"
     ]
    }
   ],
   "source": [
    "data = pd.read_csv(\"test.csv\", sep=\",\")\n",
    "# data['label'] = 'unrelated'\n",
    "data = pre_process(data)"
   ]
  },
  {
   "cell_type": "code",
   "execution_count": 6,
   "metadata": {},
   "outputs": [
    {
     "data": {
      "text/plain": [
       "(64110, 2)"
      ]
     },
     "execution_count": 6,
     "metadata": {},
     "output_type": "execute_result"
    }
   ],
   "source": [
    "data.shape"
   ]
  },
  {
   "cell_type": "code",
   "execution_count": 7,
   "metadata": {},
   "outputs": [
    {
     "data": {
      "text/html": [
       "<div>\n",
       "<style scoped>\n",
       "    .dataframe tbody tr th:only-of-type {\n",
       "        vertical-align: middle;\n",
       "    }\n",
       "\n",
       "    .dataframe tbody tr th {\n",
       "        vertical-align: top;\n",
       "    }\n",
       "\n",
       "    .dataframe thead th {\n",
       "        text-align: right;\n",
       "    }\n",
       "</style>\n",
       "<table border=\"1\" class=\"dataframe\">\n",
       "  <thead>\n",
       "    <tr style=\"text-align: right;\">\n",
       "      <th></th>\n",
       "      <th>title1</th>\n",
       "      <th>title2</th>\n",
       "    </tr>\n",
       "  </thead>\n",
       "  <tbody>\n",
       "    <tr>\n",
       "      <td>0</td>\n",
       "      <td>great coat brother zhu zhu wen mandarin love s...</td>\n",
       "      <td>lin xinsheng birth hard milk huo jianhua seen ...</td>\n",
       "    </tr>\n",
       "    <tr>\n",
       "      <td>1</td>\n",
       "      <td>nasa reveal fact ufo wreckag found moon</td>\n",
       "      <td>ufo found yuancun jiaocheng counti shanxi shoc...</td>\n",
       "    </tr>\n",
       "    <tr>\n",
       "      <td>2</td>\n",
       "      <td>hollow tomato load hormon</td>\n",
       "      <td>li chenfan bingb home photo netizen call luxur...</td>\n",
       "    </tr>\n",
       "    <tr>\n",
       "      <td>3</td>\n",
       "      <td>ang pavilion geoshui accur matrimoni match mat...</td>\n",
       "      <td>master one eight charact presumpt marriag soon...</td>\n",
       "    </tr>\n",
       "    <tr>\n",
       "      <td>4</td>\n",
       "      <td>50 year old bu bu blow 8 year old child rumor ...</td>\n",
       "      <td>joe johnson disgruntl time order myth</td>\n",
       "    </tr>\n",
       "  </tbody>\n",
       "</table>\n",
       "</div>"
      ],
      "text/plain": [
       "                                              title1  \\\n",
       "0  great coat brother zhu zhu wen mandarin love s...   \n",
       "1            nasa reveal fact ufo wreckag found moon   \n",
       "2                          hollow tomato load hormon   \n",
       "3  ang pavilion geoshui accur matrimoni match mat...   \n",
       "4  50 year old bu bu blow 8 year old child rumor ...   \n",
       "\n",
       "                                              title2  \n",
       "0  lin xinsheng birth hard milk huo jianhua seen ...  \n",
       "1  ufo found yuancun jiaocheng counti shanxi shoc...  \n",
       "2  li chenfan bingb home photo netizen call luxur...  \n",
       "3  master one eight charact presumpt marriag soon...  \n",
       "4          joe johnson disgruntl time order myth      "
      ]
     },
     "execution_count": 7,
     "metadata": {},
     "output_type": "execute_result"
    }
   ],
   "source": [
    "data.head()"
   ]
  },
  {
   "cell_type": "code",
   "execution_count": 8,
   "metadata": {},
   "outputs": [
    {
     "data": {
      "text/plain": [
       "title1    0\n",
       "title2    0\n",
       "dtype: int64"
      ]
     },
     "execution_count": 8,
     "metadata": {},
     "output_type": "execute_result"
    }
   ],
   "source": [
    "data['title1'].replace('', np.nan, inplace=True)\n",
    "data['title2'].replace('', np.nan, inplace=True)\n",
    "data.isnull().sum()\n",
    "data = data.dropna()\n",
    "data.isnull().sum()"
   ]
  },
  {
   "cell_type": "code",
   "execution_count": 9,
   "metadata": {},
   "outputs": [
    {
     "data": {
      "text/plain": [
       "Index(['title1', 'title2'], dtype='object')"
      ]
     },
     "execution_count": 9,
     "metadata": {},
     "output_type": "execute_result"
    }
   ],
   "source": [
    "data.reset_index(inplace=True)\n",
    "data = data.drop(['index'],axis=1)\n",
    "data.columns"
   ]
  },
  {
   "cell_type": "code",
   "execution_count": 10,
   "metadata": {},
   "outputs": [],
   "source": [
    "def common_words(str1, str2):\n",
    "    a = set(str1.split()) \n",
    "    b = set(str2.split())\n",
    "    return len(a.intersection(b))"
   ]
  },
  {
   "cell_type": "code",
   "execution_count": 11,
   "metadata": {},
   "outputs": [],
   "source": [
    "def get_jaccard_sim(str1, str2): \n",
    "    a = set(str1.split()) \n",
    "    b = set(str2.split())\n",
    "    c = a.intersection(b)\n",
    "    return float(len(c)) / (len(a) + len(b) - len(c))"
   ]
  },
  {
   "cell_type": "code",
   "execution_count": 12,
   "metadata": {},
   "outputs": [],
   "source": [
    "import re\n",
    "import math\n",
    "from collections import Counter\n",
    "\n",
    "\n",
    "def get_cosine(vec1, vec2):\n",
    "    intersection = set(vec1.keys()) & set(vec2.keys())\n",
    "    numerator = sum([vec1[x] * vec2[x] for x in intersection])\n",
    "\n",
    "    sum1 = sum([vec1[x]**2 for x in vec1.keys()])\n",
    "    sum2 = sum([vec2[x]**2 for x in vec2.keys()])\n",
    "    denominator = math.sqrt(sum1) * math.sqrt(sum2)\n",
    "\n",
    "    if not denominator:\n",
    "        return 0.0\n",
    "    else:\n",
    "        return float(numerator) / denominator\n",
    "\n",
    "\n",
    "def text_to_vector(text):\n",
    "    word = re.compile(r'\\w+')\n",
    "    words = word.findall(text)\n",
    "    return Counter(words)\n",
    "\n",
    "\n",
    "def get_cs(content_a, content_b):\n",
    "    text1 = content_a\n",
    "    text2 = content_b\n",
    "\n",
    "    vector1 = text_to_vector(text1)\n",
    "    vector2 = text_to_vector(text2)\n",
    "\n",
    "    cosine_result = get_cosine(vector1, vector2)\n",
    "    return cosine_result\n"
   ]
  },
  {
   "cell_type": "code",
   "execution_count": 13,
   "metadata": {},
   "outputs": [],
   "source": [
    "js = get_jaccard_sim(data['title1'][9],data['title2'][9])\n",
    "\n",
    "cs = get_cs(data['title1'][9],data['title2'][9])"
   ]
  },
  {
   "cell_type": "code",
   "execution_count": 14,
   "metadata": {},
   "outputs": [],
   "source": [
    "js =[]\n",
    "cs =[]\n",
    "common_count = []\n",
    "\n",
    "\n",
    "for i in range(len(data)):\n",
    "    t1 = data['title1'][i]\n",
    "    t2 = data['title2'][i]\n",
    "    js.append(get_jaccard_sim(t1,t2))\n",
    "    cs.append(get_cs(t1,t2))\n",
    "    common_count.append(common_words(t1,t2))"
   ]
  },
  {
   "cell_type": "code",
   "execution_count": 15,
   "metadata": {},
   "outputs": [
    {
     "data": {
      "text/html": [
       "<div>\n",
       "<style scoped>\n",
       "    .dataframe tbody tr th:only-of-type {\n",
       "        vertical-align: middle;\n",
       "    }\n",
       "\n",
       "    .dataframe tbody tr th {\n",
       "        vertical-align: top;\n",
       "    }\n",
       "\n",
       "    .dataframe thead th {\n",
       "        text-align: right;\n",
       "    }\n",
       "</style>\n",
       "<table border=\"1\" class=\"dataframe\">\n",
       "  <thead>\n",
       "    <tr style=\"text-align: right;\">\n",
       "      <th></th>\n",
       "      <th>title1</th>\n",
       "      <th>title2</th>\n",
       "      <th>js</th>\n",
       "    </tr>\n",
       "  </thead>\n",
       "  <tbody>\n",
       "    <tr>\n",
       "      <td>0</td>\n",
       "      <td>great coat brother zhu zhu wen mandarin love s...</td>\n",
       "      <td>lin xinsheng birth hard milk huo jianhua seen ...</td>\n",
       "      <td>0.000000</td>\n",
       "    </tr>\n",
       "    <tr>\n",
       "      <td>1</td>\n",
       "      <td>nasa reveal fact ufo wreckag found moon</td>\n",
       "      <td>ufo found yuancun jiaocheng counti shanxi shoc...</td>\n",
       "      <td>0.117647</td>\n",
       "    </tr>\n",
       "    <tr>\n",
       "      <td>2</td>\n",
       "      <td>hollow tomato load hormon</td>\n",
       "      <td>li chenfan bingb home photo netizen call luxur...</td>\n",
       "      <td>0.000000</td>\n",
       "    </tr>\n",
       "    <tr>\n",
       "      <td>3</td>\n",
       "      <td>ang pavilion geoshui accur matrimoni match mat...</td>\n",
       "      <td>master one eight charact presumpt marriag soon...</td>\n",
       "      <td>0.000000</td>\n",
       "    </tr>\n",
       "    <tr>\n",
       "      <td>4</td>\n",
       "      <td>50 year old bu bu blow 8 year old child rumor ...</td>\n",
       "      <td>joe johnson disgruntl time order myth</td>\n",
       "      <td>0.062500</td>\n",
       "    </tr>\n",
       "  </tbody>\n",
       "</table>\n",
       "</div>"
      ],
      "text/plain": [
       "                                              title1  \\\n",
       "0  great coat brother zhu zhu wen mandarin love s...   \n",
       "1            nasa reveal fact ufo wreckag found moon   \n",
       "2                          hollow tomato load hormon   \n",
       "3  ang pavilion geoshui accur matrimoni match mat...   \n",
       "4  50 year old bu bu blow 8 year old child rumor ...   \n",
       "\n",
       "                                              title2        js  \n",
       "0  lin xinsheng birth hard milk huo jianhua seen ...  0.000000  \n",
       "1  ufo found yuancun jiaocheng counti shanxi shoc...  0.117647  \n",
       "2  li chenfan bingb home photo netizen call luxur...  0.000000  \n",
       "3  master one eight charact presumpt marriag soon...  0.000000  \n",
       "4          joe johnson disgruntl time order myth      0.062500  "
      ]
     },
     "execution_count": 15,
     "metadata": {},
     "output_type": "execute_result"
    }
   ],
   "source": [
    "data['js'] = pd.DataFrame(js)\n",
    "data.head()"
   ]
  },
  {
   "cell_type": "code",
   "execution_count": 16,
   "metadata": {},
   "outputs": [
    {
     "data": {
      "text/html": [
       "<div>\n",
       "<style scoped>\n",
       "    .dataframe tbody tr th:only-of-type {\n",
       "        vertical-align: middle;\n",
       "    }\n",
       "\n",
       "    .dataframe tbody tr th {\n",
       "        vertical-align: top;\n",
       "    }\n",
       "\n",
       "    .dataframe thead th {\n",
       "        text-align: right;\n",
       "    }\n",
       "</style>\n",
       "<table border=\"1\" class=\"dataframe\">\n",
       "  <thead>\n",
       "    <tr style=\"text-align: right;\">\n",
       "      <th></th>\n",
       "      <th>title1</th>\n",
       "      <th>title2</th>\n",
       "      <th>js</th>\n",
       "      <th>cs</th>\n",
       "    </tr>\n",
       "  </thead>\n",
       "  <tbody>\n",
       "    <tr>\n",
       "      <td>0</td>\n",
       "      <td>great coat brother zhu zhu wen mandarin love s...</td>\n",
       "      <td>lin xinsheng birth hard milk huo jianhua seen ...</td>\n",
       "      <td>0.000000</td>\n",
       "      <td>0.000000</td>\n",
       "    </tr>\n",
       "    <tr>\n",
       "      <td>1</td>\n",
       "      <td>nasa reveal fact ufo wreckag found moon</td>\n",
       "      <td>ufo found yuancun jiaocheng counti shanxi shoc...</td>\n",
       "      <td>0.117647</td>\n",
       "      <td>0.218218</td>\n",
       "    </tr>\n",
       "    <tr>\n",
       "      <td>2</td>\n",
       "      <td>hollow tomato load hormon</td>\n",
       "      <td>li chenfan bingb home photo netizen call luxur...</td>\n",
       "      <td>0.000000</td>\n",
       "      <td>0.000000</td>\n",
       "    </tr>\n",
       "    <tr>\n",
       "      <td>3</td>\n",
       "      <td>ang pavilion geoshui accur matrimoni match mat...</td>\n",
       "      <td>master one eight charact presumpt marriag soon...</td>\n",
       "      <td>0.000000</td>\n",
       "      <td>0.000000</td>\n",
       "    </tr>\n",
       "    <tr>\n",
       "      <td>4</td>\n",
       "      <td>50 year old bu bu blow 8 year old child rumor ...</td>\n",
       "      <td>joe johnson disgruntl time order myth</td>\n",
       "      <td>0.062500</td>\n",
       "      <td>0.091287</td>\n",
       "    </tr>\n",
       "  </tbody>\n",
       "</table>\n",
       "</div>"
      ],
      "text/plain": [
       "                                              title1  \\\n",
       "0  great coat brother zhu zhu wen mandarin love s...   \n",
       "1            nasa reveal fact ufo wreckag found moon   \n",
       "2                          hollow tomato load hormon   \n",
       "3  ang pavilion geoshui accur matrimoni match mat...   \n",
       "4  50 year old bu bu blow 8 year old child rumor ...   \n",
       "\n",
       "                                              title2        js        cs  \n",
       "0  lin xinsheng birth hard milk huo jianhua seen ...  0.000000  0.000000  \n",
       "1  ufo found yuancun jiaocheng counti shanxi shoc...  0.117647  0.218218  \n",
       "2  li chenfan bingb home photo netizen call luxur...  0.000000  0.000000  \n",
       "3  master one eight charact presumpt marriag soon...  0.000000  0.000000  \n",
       "4          joe johnson disgruntl time order myth      0.062500  0.091287  "
      ]
     },
     "execution_count": 16,
     "metadata": {},
     "output_type": "execute_result"
    }
   ],
   "source": [
    "data['cs'] = pd.DataFrame(cs)\n",
    "data.head()"
   ]
  },
  {
   "cell_type": "code",
   "execution_count": 17,
   "metadata": {},
   "outputs": [
    {
     "data": {
      "text/html": [
       "<div>\n",
       "<style scoped>\n",
       "    .dataframe tbody tr th:only-of-type {\n",
       "        vertical-align: middle;\n",
       "    }\n",
       "\n",
       "    .dataframe tbody tr th {\n",
       "        vertical-align: top;\n",
       "    }\n",
       "\n",
       "    .dataframe thead th {\n",
       "        text-align: right;\n",
       "    }\n",
       "</style>\n",
       "<table border=\"1\" class=\"dataframe\">\n",
       "  <thead>\n",
       "    <tr style=\"text-align: right;\">\n",
       "      <th></th>\n",
       "      <th>title1</th>\n",
       "      <th>title2</th>\n",
       "      <th>js</th>\n",
       "      <th>cs</th>\n",
       "      <th>common_count</th>\n",
       "    </tr>\n",
       "  </thead>\n",
       "  <tbody>\n",
       "    <tr>\n",
       "      <td>0</td>\n",
       "      <td>great coat brother zhu zhu wen mandarin love s...</td>\n",
       "      <td>lin xinsheng birth hard milk huo jianhua seen ...</td>\n",
       "      <td>0.000000</td>\n",
       "      <td>0.000000</td>\n",
       "      <td>0</td>\n",
       "    </tr>\n",
       "    <tr>\n",
       "      <td>1</td>\n",
       "      <td>nasa reveal fact ufo wreckag found moon</td>\n",
       "      <td>ufo found yuancun jiaocheng counti shanxi shoc...</td>\n",
       "      <td>0.117647</td>\n",
       "      <td>0.218218</td>\n",
       "      <td>2</td>\n",
       "    </tr>\n",
       "    <tr>\n",
       "      <td>2</td>\n",
       "      <td>hollow tomato load hormon</td>\n",
       "      <td>li chenfan bingb home photo netizen call luxur...</td>\n",
       "      <td>0.000000</td>\n",
       "      <td>0.000000</td>\n",
       "      <td>0</td>\n",
       "    </tr>\n",
       "    <tr>\n",
       "      <td>3</td>\n",
       "      <td>ang pavilion geoshui accur matrimoni match mat...</td>\n",
       "      <td>master one eight charact presumpt marriag soon...</td>\n",
       "      <td>0.000000</td>\n",
       "      <td>0.000000</td>\n",
       "      <td>0</td>\n",
       "    </tr>\n",
       "    <tr>\n",
       "      <td>4</td>\n",
       "      <td>50 year old bu bu blow 8 year old child rumor ...</td>\n",
       "      <td>joe johnson disgruntl time order myth</td>\n",
       "      <td>0.062500</td>\n",
       "      <td>0.091287</td>\n",
       "      <td>1</td>\n",
       "    </tr>\n",
       "  </tbody>\n",
       "</table>\n",
       "</div>"
      ],
      "text/plain": [
       "                                              title1  \\\n",
       "0  great coat brother zhu zhu wen mandarin love s...   \n",
       "1            nasa reveal fact ufo wreckag found moon   \n",
       "2                          hollow tomato load hormon   \n",
       "3  ang pavilion geoshui accur matrimoni match mat...   \n",
       "4  50 year old bu bu blow 8 year old child rumor ...   \n",
       "\n",
       "                                              title2        js        cs  \\\n",
       "0  lin xinsheng birth hard milk huo jianhua seen ...  0.000000  0.000000   \n",
       "1  ufo found yuancun jiaocheng counti shanxi shoc...  0.117647  0.218218   \n",
       "2  li chenfan bingb home photo netizen call luxur...  0.000000  0.000000   \n",
       "3  master one eight charact presumpt marriag soon...  0.000000  0.000000   \n",
       "4          joe johnson disgruntl time order myth      0.062500  0.091287   \n",
       "\n",
       "   common_count  \n",
       "0             0  \n",
       "1             2  \n",
       "2             0  \n",
       "3             0  \n",
       "4             1  "
      ]
     },
     "execution_count": 17,
     "metadata": {},
     "output_type": "execute_result"
    }
   ],
   "source": [
    "data['common_count'] = pd.DataFrame(common_count)\n",
    "data.head()"
   ]
  },
  {
   "cell_type": "code",
   "execution_count": 18,
   "metadata": {},
   "outputs": [
    {
     "data": {
      "text/plain": [
       "0.14854121375602256"
      ]
     },
     "execution_count": 18,
     "metadata": {},
     "output_type": "execute_result"
    }
   ],
   "source": [
    "data[\"js\"].mean()"
   ]
  },
  {
   "cell_type": "code",
   "execution_count": 19,
   "metadata": {},
   "outputs": [
    {
     "data": {
      "text/plain": [
       "0.24557028536636247"
      ]
     },
     "execution_count": 19,
     "metadata": {},
     "output_type": "execute_result"
    }
   ],
   "source": [
    "data[\"cs\"].mean()"
   ]
  },
  {
   "cell_type": "code",
   "execution_count": 20,
   "metadata": {},
   "outputs": [
    {
     "data": {
      "text/plain": [
       "2.260969940880091"
      ]
     },
     "execution_count": 20,
     "metadata": {},
     "output_type": "execute_result"
    }
   ],
   "source": [
    "data['common_count'].mean()"
   ]
  },
  {
   "cell_type": "code",
   "execution_count": 21,
   "metadata": {},
   "outputs": [],
   "source": [
    "data.to_csv(\"test_proc.csv\",index=False)"
   ]
  }
 ],
 "metadata": {
  "kernelspec": {
   "display_name": "Python 3",
   "language": "python",
   "name": "python3"
  },
  "language_info": {
   "codemirror_mode": {
    "name": "ipython",
    "version": 3
   },
   "file_extension": ".py",
   "mimetype": "text/x-python",
   "name": "python",
   "nbconvert_exporter": "python",
   "pygments_lexer": "ipython3",
   "version": "3.7.4"
  }
 },
 "nbformat": 4,
 "nbformat_minor": 2
}
